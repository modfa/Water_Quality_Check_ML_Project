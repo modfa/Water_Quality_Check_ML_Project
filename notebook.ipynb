{
 "cells": [
  {
   "cell_type": "code",
   "execution_count": 1,
   "id": "8128d48a",
   "metadata": {},
   "outputs": [],
   "source": [
    "#Importing all the necessary libraries\n",
    "\n",
    "import pandas as pd\n",
    "import numpy as np\n",
    "import seaborn as sns\n",
    "import matplotlib.pyplot as plt"
   ]
  },
  {
   "cell_type": "code",
   "execution_count": 2,
   "id": "dbaeb524",
   "metadata": {},
   "outputs": [
    {
     "data": {
      "text/html": [
       "<div>\n",
       "<style scoped>\n",
       "    .dataframe tbody tr th:only-of-type {\n",
       "        vertical-align: middle;\n",
       "    }\n",
       "\n",
       "    .dataframe tbody tr th {\n",
       "        vertical-align: top;\n",
       "    }\n",
       "\n",
       "    .dataframe thead th {\n",
       "        text-align: right;\n",
       "    }\n",
       "</style>\n",
       "<table border=\"1\" class=\"dataframe\">\n",
       "  <thead>\n",
       "    <tr style=\"text-align: right;\">\n",
       "      <th></th>\n",
       "      <th>ph</th>\n",
       "      <th>Hardness</th>\n",
       "      <th>Solids</th>\n",
       "      <th>Chloramines</th>\n",
       "      <th>Sulfate</th>\n",
       "      <th>Conductivity</th>\n",
       "      <th>Organic_carbon</th>\n",
       "      <th>Trihalomethanes</th>\n",
       "      <th>Turbidity</th>\n",
       "      <th>Potability</th>\n",
       "    </tr>\n",
       "  </thead>\n",
       "  <tbody>\n",
       "    <tr>\n",
       "      <th>0</th>\n",
       "      <td>NaN</td>\n",
       "      <td>204.890455</td>\n",
       "      <td>20791.318981</td>\n",
       "      <td>7.300212</td>\n",
       "      <td>368.516441</td>\n",
       "      <td>564.308654</td>\n",
       "      <td>10.379783</td>\n",
       "      <td>86.990970</td>\n",
       "      <td>2.963135</td>\n",
       "      <td>0</td>\n",
       "    </tr>\n",
       "    <tr>\n",
       "      <th>1</th>\n",
       "      <td>3.716080</td>\n",
       "      <td>129.422921</td>\n",
       "      <td>18630.057858</td>\n",
       "      <td>6.635246</td>\n",
       "      <td>NaN</td>\n",
       "      <td>592.885359</td>\n",
       "      <td>15.180013</td>\n",
       "      <td>56.329076</td>\n",
       "      <td>4.500656</td>\n",
       "      <td>0</td>\n",
       "    </tr>\n",
       "    <tr>\n",
       "      <th>2</th>\n",
       "      <td>8.099124</td>\n",
       "      <td>224.236259</td>\n",
       "      <td>19909.541732</td>\n",
       "      <td>9.275884</td>\n",
       "      <td>NaN</td>\n",
       "      <td>418.606213</td>\n",
       "      <td>16.868637</td>\n",
       "      <td>66.420093</td>\n",
       "      <td>3.055934</td>\n",
       "      <td>0</td>\n",
       "    </tr>\n",
       "    <tr>\n",
       "      <th>3</th>\n",
       "      <td>8.316766</td>\n",
       "      <td>214.373394</td>\n",
       "      <td>22018.417441</td>\n",
       "      <td>8.059332</td>\n",
       "      <td>356.886136</td>\n",
       "      <td>363.266516</td>\n",
       "      <td>18.436524</td>\n",
       "      <td>100.341674</td>\n",
       "      <td>4.628771</td>\n",
       "      <td>0</td>\n",
       "    </tr>\n",
       "    <tr>\n",
       "      <th>4</th>\n",
       "      <td>9.092223</td>\n",
       "      <td>181.101509</td>\n",
       "      <td>17978.986339</td>\n",
       "      <td>6.546600</td>\n",
       "      <td>310.135738</td>\n",
       "      <td>398.410813</td>\n",
       "      <td>11.558279</td>\n",
       "      <td>31.997993</td>\n",
       "      <td>4.075075</td>\n",
       "      <td>0</td>\n",
       "    </tr>\n",
       "  </tbody>\n",
       "</table>\n",
       "</div>"
      ],
      "text/plain": [
       "         ph    Hardness        Solids  Chloramines     Sulfate  Conductivity  \\\n",
       "0       NaN  204.890455  20791.318981     7.300212  368.516441    564.308654   \n",
       "1  3.716080  129.422921  18630.057858     6.635246         NaN    592.885359   \n",
       "2  8.099124  224.236259  19909.541732     9.275884         NaN    418.606213   \n",
       "3  8.316766  214.373394  22018.417441     8.059332  356.886136    363.266516   \n",
       "4  9.092223  181.101509  17978.986339     6.546600  310.135738    398.410813   \n",
       "\n",
       "   Organic_carbon  Trihalomethanes  Turbidity  Potability  \n",
       "0       10.379783        86.990970   2.963135           0  \n",
       "1       15.180013        56.329076   4.500656           0  \n",
       "2       16.868637        66.420093   3.055934           0  \n",
       "3       18.436524       100.341674   4.628771           0  \n",
       "4       11.558279        31.997993   4.075075           0  "
      ]
     },
     "execution_count": 2,
     "metadata": {},
     "output_type": "execute_result"
    }
   ],
   "source": [
    "#loading the data\n",
    "\n",
    "df = pd.read_csv(\"water_potability.csv\")\n",
    "df.head()"
   ]
  },
  {
   "cell_type": "code",
   "execution_count": 3,
   "id": "8c152bc6",
   "metadata": {},
   "outputs": [
    {
     "data": {
      "text/html": [
       "<div>\n",
       "<style scoped>\n",
       "    .dataframe tbody tr th:only-of-type {\n",
       "        vertical-align: middle;\n",
       "    }\n",
       "\n",
       "    .dataframe tbody tr th {\n",
       "        vertical-align: top;\n",
       "    }\n",
       "\n",
       "    .dataframe thead th {\n",
       "        text-align: right;\n",
       "    }\n",
       "</style>\n",
       "<table border=\"1\" class=\"dataframe\">\n",
       "  <thead>\n",
       "    <tr style=\"text-align: right;\">\n",
       "      <th></th>\n",
       "      <th>ph</th>\n",
       "      <th>Hardness</th>\n",
       "      <th>Solids</th>\n",
       "      <th>Chloramines</th>\n",
       "      <th>Sulfate</th>\n",
       "      <th>Conductivity</th>\n",
       "      <th>Organic_carbon</th>\n",
       "      <th>Trihalomethanes</th>\n",
       "      <th>Turbidity</th>\n",
       "      <th>Potability</th>\n",
       "    </tr>\n",
       "  </thead>\n",
       "  <tbody>\n",
       "    <tr>\n",
       "      <th>count</th>\n",
       "      <td>2785.000000</td>\n",
       "      <td>3276.000000</td>\n",
       "      <td>3276.000000</td>\n",
       "      <td>3276.000000</td>\n",
       "      <td>2495.000000</td>\n",
       "      <td>3276.000000</td>\n",
       "      <td>3276.000000</td>\n",
       "      <td>3114.000000</td>\n",
       "      <td>3276.000000</td>\n",
       "      <td>3276.000000</td>\n",
       "    </tr>\n",
       "    <tr>\n",
       "      <th>mean</th>\n",
       "      <td>7.080795</td>\n",
       "      <td>196.369496</td>\n",
       "      <td>22014.092526</td>\n",
       "      <td>7.122277</td>\n",
       "      <td>333.775777</td>\n",
       "      <td>426.205111</td>\n",
       "      <td>14.284970</td>\n",
       "      <td>66.396293</td>\n",
       "      <td>3.966786</td>\n",
       "      <td>0.390110</td>\n",
       "    </tr>\n",
       "    <tr>\n",
       "      <th>std</th>\n",
       "      <td>1.594320</td>\n",
       "      <td>32.879761</td>\n",
       "      <td>8768.570828</td>\n",
       "      <td>1.583085</td>\n",
       "      <td>41.416840</td>\n",
       "      <td>80.824064</td>\n",
       "      <td>3.308162</td>\n",
       "      <td>16.175008</td>\n",
       "      <td>0.780382</td>\n",
       "      <td>0.487849</td>\n",
       "    </tr>\n",
       "    <tr>\n",
       "      <th>min</th>\n",
       "      <td>0.000000</td>\n",
       "      <td>47.432000</td>\n",
       "      <td>320.942611</td>\n",
       "      <td>0.352000</td>\n",
       "      <td>129.000000</td>\n",
       "      <td>181.483754</td>\n",
       "      <td>2.200000</td>\n",
       "      <td>0.738000</td>\n",
       "      <td>1.450000</td>\n",
       "      <td>0.000000</td>\n",
       "    </tr>\n",
       "    <tr>\n",
       "      <th>25%</th>\n",
       "      <td>6.093092</td>\n",
       "      <td>176.850538</td>\n",
       "      <td>15666.690297</td>\n",
       "      <td>6.127421</td>\n",
       "      <td>307.699498</td>\n",
       "      <td>365.734414</td>\n",
       "      <td>12.065801</td>\n",
       "      <td>55.844536</td>\n",
       "      <td>3.439711</td>\n",
       "      <td>0.000000</td>\n",
       "    </tr>\n",
       "    <tr>\n",
       "      <th>50%</th>\n",
       "      <td>7.036752</td>\n",
       "      <td>196.967627</td>\n",
       "      <td>20927.833607</td>\n",
       "      <td>7.130299</td>\n",
       "      <td>333.073546</td>\n",
       "      <td>421.884968</td>\n",
       "      <td>14.218338</td>\n",
       "      <td>66.622485</td>\n",
       "      <td>3.955028</td>\n",
       "      <td>0.000000</td>\n",
       "    </tr>\n",
       "    <tr>\n",
       "      <th>75%</th>\n",
       "      <td>8.062066</td>\n",
       "      <td>216.667456</td>\n",
       "      <td>27332.762127</td>\n",
       "      <td>8.114887</td>\n",
       "      <td>359.950170</td>\n",
       "      <td>481.792304</td>\n",
       "      <td>16.557652</td>\n",
       "      <td>77.337473</td>\n",
       "      <td>4.500320</td>\n",
       "      <td>1.000000</td>\n",
       "    </tr>\n",
       "    <tr>\n",
       "      <th>max</th>\n",
       "      <td>14.000000</td>\n",
       "      <td>323.124000</td>\n",
       "      <td>61227.196008</td>\n",
       "      <td>13.127000</td>\n",
       "      <td>481.030642</td>\n",
       "      <td>753.342620</td>\n",
       "      <td>28.300000</td>\n",
       "      <td>124.000000</td>\n",
       "      <td>6.739000</td>\n",
       "      <td>1.000000</td>\n",
       "    </tr>\n",
       "  </tbody>\n",
       "</table>\n",
       "</div>"
      ],
      "text/plain": [
       "                ph     Hardness        Solids  Chloramines      Sulfate  \\\n",
       "count  2785.000000  3276.000000   3276.000000  3276.000000  2495.000000   \n",
       "mean      7.080795   196.369496  22014.092526     7.122277   333.775777   \n",
       "std       1.594320    32.879761   8768.570828     1.583085    41.416840   \n",
       "min       0.000000    47.432000    320.942611     0.352000   129.000000   \n",
       "25%       6.093092   176.850538  15666.690297     6.127421   307.699498   \n",
       "50%       7.036752   196.967627  20927.833607     7.130299   333.073546   \n",
       "75%       8.062066   216.667456  27332.762127     8.114887   359.950170   \n",
       "max      14.000000   323.124000  61227.196008    13.127000   481.030642   \n",
       "\n",
       "       Conductivity  Organic_carbon  Trihalomethanes    Turbidity   Potability  \n",
       "count   3276.000000     3276.000000      3114.000000  3276.000000  3276.000000  \n",
       "mean     426.205111       14.284970        66.396293     3.966786     0.390110  \n",
       "std       80.824064        3.308162        16.175008     0.780382     0.487849  \n",
       "min      181.483754        2.200000         0.738000     1.450000     0.000000  \n",
       "25%      365.734414       12.065801        55.844536     3.439711     0.000000  \n",
       "50%      421.884968       14.218338        66.622485     3.955028     0.000000  \n",
       "75%      481.792304       16.557652        77.337473     4.500320     1.000000  \n",
       "max      753.342620       28.300000       124.000000     6.739000     1.000000  "
      ]
     },
     "execution_count": 3,
     "metadata": {},
     "output_type": "execute_result"
    }
   ],
   "source": [
    "df.describe()"
   ]
  },
  {
   "cell_type": "markdown",
   "id": "dde33d3f",
   "metadata": {},
   "source": [
    "# Data Preparation and Data Cleaning "
   ]
  },
  {
   "cell_type": "code",
   "execution_count": 4,
   "id": "fbdbdd4a",
   "metadata": {},
   "outputs": [],
   "source": [
    "# Creating the copy of the original data\n",
    "df_copy = df.copy()"
   ]
  },
  {
   "cell_type": "code",
   "execution_count": 5,
   "id": "00572f76",
   "metadata": {},
   "outputs": [],
   "source": [
    "#Standardizing the names of the columns to small case letters \n",
    "\n",
    "df_copy.columns = df_copy.columns.str.lower().str.replace(' ', '_')"
   ]
  },
  {
   "cell_type": "code",
   "execution_count": 6,
   "id": "239da43e",
   "metadata": {},
   "outputs": [
    {
     "data": {
      "text/plain": [
       "ph                 491\n",
       "hardness             0\n",
       "solids               0\n",
       "chloramines          0\n",
       "sulfate            781\n",
       "conductivity         0\n",
       "organic_carbon       0\n",
       "trihalomethanes    162\n",
       "turbidity            0\n",
       "potability           0\n",
       "dtype: int64"
      ]
     },
     "execution_count": 6,
     "metadata": {},
     "output_type": "execute_result"
    }
   ],
   "source": [
    "# To check the missing values in the dataframe\n",
    "df_copy.isnull().sum()"
   ]
  },
  {
   "cell_type": "code",
   "execution_count": 7,
   "id": "fa671dee",
   "metadata": {},
   "outputs": [
    {
     "data": {
      "text/plain": [
       "(3276, 10)"
      ]
     },
     "execution_count": 7,
     "metadata": {},
     "output_type": "execute_result"
    }
   ],
   "source": [
    "#Dimension/Shape of the dataframe \n",
    "\n",
    "df_copy.shape"
   ]
  },
  {
   "cell_type": "code",
   "execution_count": 7,
   "id": "9095b40c",
   "metadata": {},
   "outputs": [],
   "source": [
    "#Filling the missing values of each columns\n",
    "df_copy = df_copy.fillna(method='pad')"
   ]
  },
  {
   "cell_type": "code",
   "execution_count": 8,
   "id": "398dcc13",
   "metadata": {},
   "outputs": [
    {
     "data": {
      "text/plain": [
       "ph                 1\n",
       "hardness           0\n",
       "solids             0\n",
       "chloramines        0\n",
       "sulfate            0\n",
       "conductivity       0\n",
       "organic_carbon     0\n",
       "trihalomethanes    0\n",
       "turbidity          0\n",
       "potability         0\n",
       "dtype: int64"
      ]
     },
     "execution_count": 8,
     "metadata": {},
     "output_type": "execute_result"
    }
   ],
   "source": [
    "#Check again for the missing values\n",
    "df_copy.isnull().sum()"
   ]
  },
  {
   "cell_type": "code",
   "execution_count": 9,
   "id": "d1c8d6b6",
   "metadata": {},
   "outputs": [],
   "source": [
    "#Fill the missing value of ph column by 7.08 i.e the mean of the same\n",
    "df_copy.ph = df_copy.ph.fillna(7.08)"
   ]
  },
  {
   "cell_type": "code",
   "execution_count": 10,
   "id": "f073f0a0",
   "metadata": {},
   "outputs": [],
   "source": [
    "#Import package for splitting the dataset in train, test and validation\n",
    "from sklearn.model_selection import train_test_split"
   ]
  },
  {
   "cell_type": "code",
   "execution_count": 11,
   "id": "6f7de722",
   "metadata": {},
   "outputs": [],
   "source": [
    "#Here we use 60% data for training, 20% for test and 20% for validation \n",
    "\n",
    "df_full_train, df_test = train_test_split(df_copy, test_size=0.2, random_state=1)\n",
    "df_train, df_val = train_test_split(df_full_train, test_size=0.25, random_state=1)"
   ]
  },
  {
   "cell_type": "code",
   "execution_count": 12,
   "id": "6f9c60fd",
   "metadata": {},
   "outputs": [
    {
     "data": {
      "text/plain": [
       "(1965, 655, 656)"
      ]
     },
     "execution_count": 12,
     "metadata": {},
     "output_type": "execute_result"
    }
   ],
   "source": [
    "#Check the dimension of train, test and validation data after splitting\n",
    "\n",
    "len(df_train), len(df_val), len(df_test)"
   ]
  },
  {
   "cell_type": "code",
   "execution_count": 14,
   "id": "f97b326c",
   "metadata": {},
   "outputs": [],
   "source": [
    "#After splitting the dataframe into train, test and validation, we need to reset the index of each dataset\n",
    "\n",
    "df_train = df_train.reset_index(drop=True)\n",
    "df_val = df_val.reset_index(drop=True)\n",
    "df_test = df_test.reset_index(drop=True)"
   ]
  },
  {
   "cell_type": "code",
   "execution_count": 18,
   "id": "1884f188",
   "metadata": {},
   "outputs": [],
   "source": [
    "# Getting the label/target variable from train, test and validation \n",
    "y_train = df_train.potability.values\n",
    "y_val = df_val.potability.values\n",
    "y_test = df_test.potability.values"
   ]
  },
  {
   "cell_type": "code",
   "execution_count": 16,
   "id": "e9ecd0be",
   "metadata": {},
   "outputs": [],
   "source": [
    "#After extracting the target variable, delete it from datasets so as to avoid accidently using it for training purpose\n",
    "del df_train['potability']\n",
    "del df_val['potability']\n",
    "del df_test['potability']"
   ]
  },
  {
   "cell_type": "code",
   "execution_count": null,
   "id": "2328fc7f",
   "metadata": {},
   "outputs": [],
   "source": []
  },
  {
   "cell_type": "markdown",
   "id": "244c29d8",
   "metadata": {},
   "source": [
    "# EDA & Feature Importance Analysis"
   ]
  },
  {
   "cell_type": "code",
   "execution_count": 17,
   "id": "80e08fd7",
   "metadata": {},
   "outputs": [
    {
     "data": {
      "text/plain": [
       "ph                -0.005955\n",
       "hardness          -0.018297\n",
       "solids             0.036416\n",
       "chloramines        0.010072\n",
       "sulfate           -0.016348\n",
       "conductivity       0.004265\n",
       "organic_carbon    -0.018066\n",
       "trihalomethanes    0.010433\n",
       "turbidity          0.010532\n",
       "potability         1.000000\n",
       "dtype: float64"
      ]
     },
     "execution_count": 17,
     "metadata": {},
     "output_type": "execute_result"
    }
   ],
   "source": [
    "#EDA\n",
    "#Check the correlation of each RV/Feature with the Traget variable}\n",
    "df_full_train.corrwith(df_full_train.potability)"
   ]
  },
  {
   "cell_type": "code",
   "execution_count": 18,
   "id": "12f4570d",
   "metadata": {},
   "outputs": [
    {
     "data": {
      "text/plain": [
       "0.35947712418300654"
      ]
     },
     "execution_count": 18,
     "metadata": {},
     "output_type": "execute_result"
    }
   ],
   "source": [
    "#Check the mean samples (where ph value < 6.5) which is not potable\n",
    "df_full_train[df_full_train.ph <= 6.5].potability.mean()"
   ]
  },
  {
   "cell_type": "code",
   "execution_count": 19,
   "id": "f764196f",
   "metadata": {},
   "outputs": [
    {
     "data": {
      "text/plain": [
       "0.3261802575107296"
      ]
     },
     "execution_count": 19,
     "metadata": {},
     "output_type": "execute_result"
    }
   ],
   "source": [
    "#Check the mean samples (where ph value > 8.5) which is not potable\n",
    "df_full_train[df_full_train.ph >= 8.5].potability.mean()"
   ]
  },
  {
   "cell_type": "code",
   "execution_count": 20,
   "id": "18f9cf72",
   "metadata": {},
   "outputs": [
    {
     "data": {
      "text/plain": [
       "0.410958904109589"
      ]
     },
     "execution_count": 20,
     "metadata": {},
     "output_type": "execute_result"
    }
   ],
   "source": [
    "##Check the mean samples (where ph value > 6.52 and < 6.83) which is potable\n",
    "df_full_train[(df_full_train.ph >= 6.52) & (df_full_train.ph <= 6.83)].potability.mean()"
   ]
  },
  {
   "cell_type": "code",
   "execution_count": 21,
   "id": "e33824c4",
   "metadata": {},
   "outputs": [
    {
     "data": {
      "text/plain": [
       "0.0"
      ]
     },
     "execution_count": 21,
     "metadata": {},
     "output_type": "execute_result"
    }
   ],
   "source": [
    "#Check the mean samples (where solids < 500 mg/l) which is not potable\n",
    "df_full_train[df_full_train.solids <= 500].potability.mean()"
   ]
  },
  {
   "cell_type": "code",
   "execution_count": 22,
   "id": "4ac1dc17",
   "metadata": {},
   "outputs": [
    {
     "data": {
      "text/plain": [
       "0.37967914438502676"
      ]
     },
     "execution_count": 22,
     "metadata": {},
     "output_type": "execute_result"
    }
   ],
   "source": [
    "#Check the mean samples (where solids > 1000 mg/l) which is not potable\n",
    "df_full_train[df_full_train.solids > 1000].potability.mean()"
   ]
  },
  {
   "cell_type": "code",
   "execution_count": 23,
   "id": "31df20b4",
   "metadata": {},
   "outputs": [
    {
     "data": {
      "text/plain": [
       "1.0"
      ]
     },
     "execution_count": 23,
     "metadata": {},
     "output_type": "execute_result"
    }
   ],
   "source": [
    "##Check the mean samples (where solids/minerals value > 500 and <= 1000) which is potable\n",
    "df_full_train[(df_full_train.solids >= 500) & (df_full_train.solids <= 1000)].potability.mean()"
   ]
  },
  {
   "cell_type": "code",
   "execution_count": 24,
   "id": "666f9039",
   "metadata": {},
   "outputs": [
    {
     "data": {
      "text/plain": [
       "0.3582089552238806"
      ]
     },
     "execution_count": 24,
     "metadata": {},
     "output_type": "execute_result"
    }
   ],
   "source": [
    "#Check the mean samples (where chloramines < 4 mg/l) which is potable\n",
    "df_full_train[df_full_train.chloramines <= 4].potability.mean()"
   ]
  },
  {
   "cell_type": "code",
   "execution_count": null,
   "id": "2cdd9ceb",
   "metadata": {},
   "outputs": [],
   "source": []
  },
  {
   "cell_type": "markdown",
   "id": "aa626b2b",
   "metadata": {},
   "source": [
    "#  Model Selection Process and Parameter Tuning"
   ]
  },
  {
   "cell_type": "code",
   "execution_count": null,
   "id": "7cbc69bc",
   "metadata": {},
   "outputs": [],
   "source": []
  },
  {
   "cell_type": "code",
   "execution_count": 20,
   "id": "d138bb5d",
   "metadata": {},
   "outputs": [],
   "source": [
    "#import the DictVectorizer package\n",
    "from sklearn.feature_extraction import DictVectorizer"
   ]
  },
  {
   "cell_type": "code",
   "execution_count": 26,
   "id": "a475299f",
   "metadata": {},
   "outputs": [],
   "source": [
    "#Converting the train, validation dataset to DV Matrix format \n",
    "\n",
    "dv = DictVectorizer(sparse=False)\n",
    "\n",
    "train_dict = df_train.to_dict(orient='records')\n",
    "X_train = dv.fit_transform(train_dict)\n",
    "\n",
    "val_dict = df_val.to_dict(orient='records')\n",
    "X_val = dv.transform(val_dict)"
   ]
  },
  {
   "cell_type": "markdown",
   "id": "5f1eb19b",
   "metadata": {},
   "source": [
    "### Logistic Regression "
   ]
  },
  {
   "cell_type": "code",
   "execution_count": 27,
   "id": "c1d6a309",
   "metadata": {},
   "outputs": [],
   "source": [
    "# import the LogisticRegression package for sklearn\n",
    "from sklearn.linear_model import LogisticRegression"
   ]
  },
  {
   "cell_type": "code",
   "execution_count": 28,
   "id": "a59e4efc",
   "metadata": {},
   "outputs": [
    {
     "data": {
      "text/plain": [
       "LogisticRegression()"
      ]
     },
     "execution_count": 28,
     "metadata": {},
     "output_type": "execute_result"
    }
   ],
   "source": [
    "#Initializing the LR instance and fitting the model of our training dataset\n",
    "\n",
    "model = LogisticRegression(solver='lbfgs')\n",
    "# solver='lbfgs' is the default solver in newer version of sklearn\n",
    "# for older versions, you need to specify it explicitly\n",
    "model.fit(X_train, y_train)"
   ]
  },
  {
   "cell_type": "code",
   "execution_count": 29,
   "id": "1b588cc6",
   "metadata": {},
   "outputs": [
    {
     "data": {
      "text/plain": [
       "-3.7834493483810762e-06"
      ]
     },
     "execution_count": 29,
     "metadata": {},
     "output_type": "execute_result"
    }
   ],
   "source": [
    "#Check the interect or bias value for the LR model \n",
    "model.intercept_[0]"
   ]
  },
  {
   "cell_type": "code",
   "execution_count": 30,
   "id": "cac4bc5b",
   "metadata": {},
   "outputs": [
    {
     "data": {
      "text/plain": [
       "array([-9.92049665e-06,  2.25628026e-04, -9.58466035e-04, -9.87745187e-05,\n",
       "       -4.33197248e-05,  6.99910010e-06, -1.54965752e-03, -1.86372057e-04,\n",
       "       -2.05804215e-05])"
      ]
     },
     "execution_count": 30,
     "metadata": {},
     "output_type": "execute_result"
    }
   ],
   "source": [
    "#Check all the coefficients or weights of the LR model\n",
    "model.coef_[0]"
   ]
  },
  {
   "cell_type": "code",
   "execution_count": 31,
   "id": "f71c5c40",
   "metadata": {},
   "outputs": [],
   "source": [
    "#Getting the prediction probability from trained LR model\n",
    "y_pred = model.predict_proba(X_val)[:, 1]"
   ]
  },
  {
   "cell_type": "code",
   "execution_count": 32,
   "id": "4dfb1b5a",
   "metadata": {},
   "outputs": [],
   "source": [
    "# The decision boundry for target variable\n",
    "potability_decision = (y_pred >= 0.50)"
   ]
  },
  {
   "cell_type": "code",
   "execution_count": 33,
   "id": "28a9e71f",
   "metadata": {},
   "outputs": [
    {
     "data": {
      "text/plain": [
       "0.6351145038167939"
      ]
     },
     "execution_count": 33,
     "metadata": {},
     "output_type": "execute_result"
    }
   ],
   "source": [
    "#Accuracy calculation using manual way\n",
    "(y_val.astype('bool') == potability_decision ).mean()"
   ]
  },
  {
   "cell_type": "code",
   "execution_count": 34,
   "id": "a9cce5c5",
   "metadata": {},
   "outputs": [],
   "source": [
    "#importing the accuracy package from sklearn\n",
    "from sklearn.metrics import accuracy_score"
   ]
  },
  {
   "cell_type": "code",
   "execution_count": 35,
   "id": "33c36550",
   "metadata": {},
   "outputs": [
    {
     "data": {
      "text/plain": [
       "0.6351145038167939"
      ]
     },
     "execution_count": 35,
     "metadata": {},
     "output_type": "execute_result"
    }
   ],
   "source": [
    "# Accuracy calculation for the trained model\n",
    "\n",
    "accuracy_score(y_val, y_pred >= 0.50)"
   ]
  },
  {
   "cell_type": "code",
   "execution_count": 37,
   "id": "d15f42de",
   "metadata": {},
   "outputs": [
    {
     "name": "stdout",
     "output_type": "stream",
     "text": [
      "0.00 0.366\n",
      "0.05 0.366\n",
      "0.10 0.366\n",
      "0.15 0.366\n",
      "0.20 0.366\n",
      "0.25 0.366\n",
      "0.30 0.366\n",
      "0.35 0.366\n",
      "0.40 0.595\n",
      "0.45 0.635\n",
      "0.50 0.635\n",
      "0.55 0.634\n",
      "0.60 0.634\n",
      "0.65 0.634\n",
      "0.70 0.634\n",
      "0.75 0.634\n",
      "0.80 0.634\n",
      "0.85 0.634\n",
      "0.90 0.634\n",
      "0.95 0.634\n",
      "1.00 0.634\n"
     ]
    }
   ],
   "source": [
    "#To check the accuracy of the model for different threshold levels between 0 and 1\n",
    "\n",
    "thresholds = np.linspace(0, 1, 21)\n",
    "\n",
    "scores = []\n",
    "\n",
    "for t in thresholds:\n",
    "    score = accuracy_score(y_val, y_pred >= t)\n",
    "    print('%.2f %.3f' % (t, score))\n",
    "    scores.append(score)"
   ]
  },
  {
   "cell_type": "code",
   "execution_count": 38,
   "id": "7911a112",
   "metadata": {},
   "outputs": [
    {
     "data": {
      "text/plain": [
       "[<matplotlib.lines.Line2D at 0x7fb632303790>]"
      ]
     },
     "execution_count": 38,
     "metadata": {},
     "output_type": "execute_result"
    },
    {
     "data": {
      "image/png": "[encoded data removed]",
      "text/plain": [
       "<Figure size 432x288 with 1 Axes>"
      ]
     },
     "metadata": {
      "needs_background": "light"
     },
     "output_type": "display_data"
    }
   ],
   "source": [
    "#plot the different thresholds Vs the scores\n",
    "plt.plot(thresholds, scores)"
   ]
  },
  {
   "cell_type": "code",
   "execution_count": 39,
   "id": "eac8bdc8",
   "metadata": {},
   "outputs": [],
   "source": [
    "#A collection from python to count\n",
    "from collections import Counter"
   ]
  },
  {
   "cell_type": "code",
   "execution_count": 40,
   "id": "a38a7ff8",
   "metadata": {},
   "outputs": [
    {
     "data": {
      "text/plain": [
       "Counter({False: 655})"
      ]
     },
     "execution_count": 40,
     "metadata": {},
     "output_type": "execute_result"
    }
   ],
   "source": [
    "Counter(y_pred >= 1.0)"
   ]
  },
  {
   "cell_type": "code",
   "execution_count": 41,
   "id": "8d11c68d",
   "metadata": {},
   "outputs": [
    {
     "data": {
      "text/plain": [
       "Counter({True: 240, False: 415})"
      ]
     },
     "execution_count": 41,
     "metadata": {},
     "output_type": "execute_result"
    }
   ],
   "source": [
    "Counter(y_val >=1)"
   ]
  },
  {
   "cell_type": "code",
   "execution_count": 42,
   "id": "115b3fda",
   "metadata": {},
   "outputs": [],
   "source": [
    "# Import the roc_curve package from sklearn \n",
    "from sklearn.metrics import roc_curve"
   ]
  },
  {
   "cell_type": "code",
   "execution_count": 43,
   "id": "92e1ec16",
   "metadata": {},
   "outputs": [],
   "source": [
    "#we get fpr, tpr and thresholds for roc curve\n",
    "fpr, tpr, thresholds = roc_curve(y_val, y_pred)"
   ]
  },
  {
   "cell_type": "code",
   "execution_count": 44,
   "id": "b17d5055",
   "metadata": {},
   "outputs": [
    {
     "data": {
      "text/plain": [
       "<matplotlib.legend.Legend at 0x7fb6317c7c40>"
      ]
     },
     "execution_count": 44,
     "metadata": {},
     "output_type": "execute_result"
    },
    {
     "data": {
      "image/png": "[encoded data removed]",
      "text/plain": [
       "<Figure size 360x360 with 1 Axes>"
      ]
     },
     "metadata": {
      "needs_background": "light"
     },
     "output_type": "display_data"
    }
   ],
   "source": [
    "#Plotting the ROC Curve\n",
    "\n",
    "plt.figure(figsize=(5, 5))\n",
    "\n",
    "plt.plot(fpr, tpr, label='Model')\n",
    "plt.plot([0, 1], [0, 1], label='Random', linestyle='--')\n",
    "\n",
    "plt.xlabel('FPR')\n",
    "plt.ylabel('TPR')\n",
    "\n",
    "plt.legend()"
   ]
  },
  {
   "cell_type": "code",
   "execution_count": 13,
   "id": "d24b6231",
   "metadata": {},
   "outputs": [],
   "source": [
    "#package for auc and auc_score\n",
    "from sklearn.metrics import auc\n",
    "from sklearn.metrics import roc_auc_score"
   ]
  },
  {
   "cell_type": "code",
   "execution_count": 46,
   "id": "8dc30147",
   "metadata": {},
   "outputs": [
    {
     "data": {
      "text/plain": [
       "0.49440763052208836"
      ]
     },
     "execution_count": 46,
     "metadata": {},
     "output_type": "execute_result"
    }
   ],
   "source": [
    "#Get the AUC for our trained model\n",
    "auc(fpr, tpr)"
   ]
  },
  {
   "cell_type": "markdown",
   "id": "ba891994",
   "metadata": {},
   "source": [
    "## Decision Tree"
   ]
  },
  {
   "cell_type": "code",
   "execution_count": 47,
   "id": "ae573daf",
   "metadata": {},
   "outputs": [],
   "source": [
    "#Using the Tree Based Methods\n",
    "\n",
    "#import the Decision tree Classifier and other related package\n",
    "from sklearn.tree import DecisionTreeClassifier\n",
    "from sklearn.tree import export_text\n"
   ]
  },
  {
   "cell_type": "code",
   "execution_count": 48,
   "id": "f4a4d695",
   "metadata": {},
   "outputs": [],
   "source": [
    "dt = DecisionTreeClassifier()"
   ]
  },
  {
   "cell_type": "code",
   "execution_count": 49,
   "id": "a3c92042",
   "metadata": {},
   "outputs": [
    {
     "data": {
      "text/plain": [
       "DecisionTreeClassifier()"
      ]
     },
     "execution_count": 49,
     "metadata": {},
     "output_type": "execute_result"
    }
   ],
   "source": [
    "# Fitting Decision Tree\n",
    "dt.fit(X_train, y_train)"
   ]
  },
  {
   "cell_type": "code",
   "execution_count": 50,
   "id": "1a288dde",
   "metadata": {},
   "outputs": [
    {
     "data": {
      "text/plain": [
       "0.5541415662650602"
      ]
     },
     "execution_count": 50,
     "metadata": {},
     "output_type": "execute_result"
    }
   ],
   "source": [
    "# Prediction on validation data\n",
    "y_pred = dt.predict_proba(X_val)[:, 1]\n",
    "roc_auc_score(y_val, y_pred)"
   ]
  },
  {
   "cell_type": "code",
   "execution_count": 51,
   "id": "1f55d2fb",
   "metadata": {},
   "outputs": [
    {
     "data": {
      "text/plain": [
       "1.0"
      ]
     },
     "execution_count": 51,
     "metadata": {},
     "output_type": "execute_result"
    }
   ],
   "source": [
    "# Prediction on training data\n",
    "y_pred = dt.predict_proba(X_train)[:, 1]\n",
    "roc_auc_score(y_train, y_pred)\n"
   ]
  },
  {
   "cell_type": "markdown",
   "id": "a12d837d",
   "metadata": {},
   "source": [
    "#### Decision Tree Parameter Tuning"
   ]
  },
  {
   "cell_type": "code",
   "execution_count": 52,
   "id": "f0069a12",
   "metadata": {},
   "outputs": [
    {
     "data": {
      "text/plain": [
       "DecisionTreeClassifier(max_depth=2)"
      ]
     },
     "execution_count": 52,
     "metadata": {},
     "output_type": "execute_result"
    }
   ],
   "source": [
    "dt = DecisionTreeClassifier(max_depth=2)\n",
    "dt.fit(X_train, y_train)"
   ]
  },
  {
   "cell_type": "code",
   "execution_count": 53,
   "id": "4f509f53",
   "metadata": {},
   "outputs": [
    {
     "name": "stdout",
     "output_type": "stream",
     "text": [
      "train: 0.5730523780854907\n",
      "val: 0.5488002008032129\n"
     ]
    }
   ],
   "source": [
    "y_pred = dt.predict_proba(X_train)[:, 1]\n",
    "auc = roc_auc_score(y_train, y_pred)\n",
    "print('train:', auc)\n",
    "\n",
    "y_pred = dt.predict_proba(X_val)[:, 1]\n",
    "auc = roc_auc_score(y_val, y_pred)\n",
    "print('val:', auc)"
   ]
  },
  {
   "cell_type": "code",
   "execution_count": 54,
   "id": "cbea29a8",
   "metadata": {},
   "outputs": [
    {
     "name": "stdout",
     "output_type": "stream",
     "text": [
      "|--- sulfate <= 260.92\n",
      "|   |--- hardness <= 187.89\n",
      "|   |   |--- class: 1\n",
      "|   |--- hardness >  187.89\n",
      "|   |   |--- class: 1\n",
      "|--- sulfate >  260.92\n",
      "|   |--- sulfate <= 363.35\n",
      "|   |   |--- class: 0\n",
      "|   |--- sulfate >  363.35\n",
      "|   |   |--- class: 0\n",
      "\n"
     ]
    },
    {
     "name": "stderr",
     "output_type": "stream",
     "text": [
      "/home/modf/anaconda3/lib/python3.9/site-packages/sklearn/utils/deprecation.py:87: FutureWarning: Function get_feature_names is deprecated; get_feature_names is deprecated in 1.0 and will be removed in 1.2. Please use get_feature_names_out instead.\n",
      "  warnings.warn(msg, category=FutureWarning)\n"
     ]
    }
   ],
   "source": [
    "print(export_text(dt, feature_names=dv.get_feature_names()))"
   ]
  },
  {
   "cell_type": "code",
   "execution_count": 55,
   "id": "700e1bf5",
   "metadata": {},
   "outputs": [
    {
     "name": "stdout",
     "output_type": "stream",
     "text": [
      "   1 -> 0.517\n",
      "   2 -> 0.549\n",
      "   3 -> 0.572\n",
      "   4 -> 0.587\n",
      "   5 -> 0.592\n",
      "   6 -> 0.607\n",
      "   7 -> 0.588\n",
      "   8 -> 0.609\n",
      "   9 -> 0.552\n",
      "  10 -> 0.556\n",
      "  12 -> 0.565\n",
      "  15 -> 0.548\n",
      "  20 -> 0.519\n",
      "None -> 0.530\n"
     ]
    }
   ],
   "source": [
    "# Decision trees parameter tuning\n",
    "depths = [1, 2, 3, 4, 5, 6,7,8,9, 10, 12,15, 20, None]\n",
    "\n",
    "for depth in depths: \n",
    "    dt = DecisionTreeClassifier(max_depth=depth)\n",
    "    dt.fit(X_train, y_train)\n",
    "    \n",
    "    y_pred = dt.predict_proba(X_val)[:, 1]\n",
    "    auc = roc_auc_score(y_val, y_pred)\n",
    "    \n",
    "    print('%4s -> %.3f' % (depth, auc))"
   ]
  },
  {
   "cell_type": "code",
   "execution_count": 56,
   "id": "6fd86ec7",
   "metadata": {},
   "outputs": [],
   "source": [
    "scores = []\n",
    "\n",
    "for depth in [ 5, 6, 7, 8]:\n",
    "    for s in [1, 5, 10, 15, 20, 500, 100, 200]:\n",
    "        dt = DecisionTreeClassifier(max_depth=depth, min_samples_leaf=s)\n",
    "        dt.fit(X_train, y_train)\n",
    "\n",
    "        y_pred = dt.predict_proba(X_val)[:, 1]\n",
    "        auc = roc_auc_score(y_val, y_pred)\n",
    "        \n",
    "        scores.append((depth, s, auc))"
   ]
  },
  {
   "cell_type": "code",
   "execution_count": 57,
   "id": "69e62fc6",
   "metadata": {},
   "outputs": [],
   "source": [
    "columns = ['max_depth', 'min_samples_leaf', 'auc']\n",
    "df_scores = pd.DataFrame(scores, columns=columns)"
   ]
  },
  {
   "cell_type": "code",
   "execution_count": 58,
   "id": "7a3b2e75",
   "metadata": {},
   "outputs": [
    {
     "data": {
      "text/html": [
       "<div>\n",
       "<style scoped>\n",
       "    .dataframe tbody tr th:only-of-type {\n",
       "        vertical-align: middle;\n",
       "    }\n",
       "\n",
       "    .dataframe tbody tr th {\n",
       "        vertical-align: top;\n",
       "    }\n",
       "\n",
       "    .dataframe thead tr th {\n",
       "        text-align: left;\n",
       "    }\n",
       "\n",
       "    .dataframe thead tr:last-of-type th {\n",
       "        text-align: right;\n",
       "    }\n",
       "</style>\n",
       "<table border=\"1\" class=\"dataframe\">\n",
       "  <thead>\n",
       "    <tr>\n",
       "      <th></th>\n",
       "      <th colspan=\"4\" halign=\"left\">auc</th>\n",
       "    </tr>\n",
       "    <tr>\n",
       "      <th>max_depth</th>\n",
       "      <th>5</th>\n",
       "      <th>6</th>\n",
       "      <th>7</th>\n",
       "      <th>8</th>\n",
       "    </tr>\n",
       "    <tr>\n",
       "      <th>min_samples_leaf</th>\n",
       "      <th></th>\n",
       "      <th></th>\n",
       "      <th></th>\n",
       "      <th></th>\n",
       "    </tr>\n",
       "  </thead>\n",
       "  <tbody>\n",
       "    <tr>\n",
       "      <th>1</th>\n",
       "      <td>0.592</td>\n",
       "      <td>0.611</td>\n",
       "      <td>0.591</td>\n",
       "      <td>0.603</td>\n",
       "    </tr>\n",
       "    <tr>\n",
       "      <th>5</th>\n",
       "      <td>0.598</td>\n",
       "      <td>0.608</td>\n",
       "      <td>0.587</td>\n",
       "      <td>0.604</td>\n",
       "    </tr>\n",
       "    <tr>\n",
       "      <th>10</th>\n",
       "      <td>0.595</td>\n",
       "      <td>0.621</td>\n",
       "      <td>0.596</td>\n",
       "      <td>0.618</td>\n",
       "    </tr>\n",
       "    <tr>\n",
       "      <th>15</th>\n",
       "      <td>0.612</td>\n",
       "      <td>0.638</td>\n",
       "      <td>0.617</td>\n",
       "      <td>0.627</td>\n",
       "    </tr>\n",
       "    <tr>\n",
       "      <th>20</th>\n",
       "      <td>0.603</td>\n",
       "      <td>0.620</td>\n",
       "      <td>0.596</td>\n",
       "      <td>0.597</td>\n",
       "    </tr>\n",
       "    <tr>\n",
       "      <th>100</th>\n",
       "      <td>0.620</td>\n",
       "      <td>0.619</td>\n",
       "      <td>0.626</td>\n",
       "      <td>0.622</td>\n",
       "    </tr>\n",
       "    <tr>\n",
       "      <th>200</th>\n",
       "      <td>0.592</td>\n",
       "      <td>0.592</td>\n",
       "      <td>0.592</td>\n",
       "      <td>0.592</td>\n",
       "    </tr>\n",
       "    <tr>\n",
       "      <th>500</th>\n",
       "      <td>0.556</td>\n",
       "      <td>0.556</td>\n",
       "      <td>0.556</td>\n",
       "      <td>0.556</td>\n",
       "    </tr>\n",
       "  </tbody>\n",
       "</table>\n",
       "</div>"
      ],
      "text/plain": [
       "                    auc                     \n",
       "max_depth             5      6      7      8\n",
       "min_samples_leaf                            \n",
       "1                 0.592  0.611  0.591  0.603\n",
       "5                 0.598  0.608  0.587  0.604\n",
       "10                0.595  0.621  0.596  0.618\n",
       "15                0.612  0.638  0.617  0.627\n",
       "20                0.603  0.620  0.596  0.597\n",
       "100               0.620  0.619  0.626  0.622\n",
       "200               0.592  0.592  0.592  0.592\n",
       "500               0.556  0.556  0.556  0.556"
      ]
     },
     "execution_count": 58,
     "metadata": {},
     "output_type": "execute_result"
    }
   ],
   "source": [
    "df_scores_pivot = df_scores.pivot(index='min_samples_leaf', columns=['max_depth'], values=['auc'])\n",
    "df_scores_pivot.round(3)"
   ]
  },
  {
   "cell_type": "code",
   "execution_count": 59,
   "id": "00cf2a7d",
   "metadata": {},
   "outputs": [
    {
     "data": {
      "text/plain": [
       "<AxesSubplot:xlabel='None-max_depth', ylabel='min_samples_leaf'>"
      ]
     },
     "execution_count": 59,
     "metadata": {},
     "output_type": "execute_result"
    },
    {
     "data": {
      "image/png": "[encoded data removed]",
      "text/plain": [
       "<Figure size 432x288 with 2 Axes>"
      ]
     },
     "metadata": {
      "needs_background": "light"
     },
     "output_type": "display_data"
    }
   ],
   "source": [
    "sns.heatmap(df_scores_pivot, annot=True, fmt=\".3f\")"
   ]
  },
  {
   "cell_type": "code",
   "execution_count": 60,
   "id": "db076c07",
   "metadata": {},
   "outputs": [
    {
     "data": {
      "text/plain": [
       "DecisionTreeClassifier(max_depth=6, min_samples_leaf=15)"
      ]
     },
     "execution_count": 60,
     "metadata": {},
     "output_type": "execute_result"
    }
   ],
   "source": [
    "dt = DecisionTreeClassifier(max_depth=6, min_samples_leaf=15)\n",
    "dt.fit(X_train, y_train)\n"
   ]
  },
  {
   "cell_type": "code",
   "execution_count": 63,
   "id": "eb5f523f",
   "metadata": {
    "scrolled": true
   },
   "outputs": [
    {
     "name": "stdout",
     "output_type": "stream",
     "text": [
      "|--- sulfate <= 260.92\n",
      "|   |--- hardness <= 187.89\n",
      "|   |   |--- class: 1\n",
      "|   |--- hardness >  187.89\n",
      "|   |   |--- ph <= 6.48\n",
      "|   |   |   |--- class: 0\n",
      "|   |   |--- ph >  6.48\n",
      "|   |   |   |--- class: 1\n",
      "|--- sulfate >  260.92\n",
      "|   |--- sulfate <= 363.35\n",
      "|   |   |--- ph <= 5.02\n",
      "|   |   |   |--- hardness <= 221.62\n",
      "|   |   |   |   |--- chloramines <= 6.22\n",
      "|   |   |   |   |   |--- class: 0\n",
      "|   |   |   |   |--- chloramines >  6.22\n",
      "|   |   |   |   |   |--- hardness <= 144.86\n",
      "|   |   |   |   |   |   |--- class: 0\n",
      "|   |   |   |   |   |--- hardness >  144.86\n",
      "|   |   |   |   |   |   |--- class: 0\n",
      "|   |   |   |--- hardness >  221.62\n",
      "|   |   |   |   |--- class: 0\n",
      "|   |   |--- ph >  5.02\n",
      "|   |   |   |--- sulfate <= 307.25\n",
      "|   |   |   |   |--- ph <= 6.74\n",
      "|   |   |   |   |   |--- chloramines <= 5.71\n",
      "|   |   |   |   |   |   |--- class: 1\n",
      "|   |   |   |   |   |--- chloramines >  5.71\n",
      "|   |   |   |   |   |   |--- class: 0\n",
      "|   |   |   |   |--- ph >  6.74\n",
      "|   |   |   |   |   |--- chloramines <= 7.52\n",
      "|   |   |   |   |   |   |--- class: 0\n",
      "|   |   |   |   |   |--- chloramines >  7.52\n",
      "|   |   |   |   |   |   |--- class: 1\n",
      "|   |   |   |--- sulfate >  307.25\n",
      "|   |   |   |   |--- hardness <= 135.81\n",
      "|   |   |   |   |   |--- class: 1\n",
      "|   |   |   |   |--- hardness >  135.81\n",
      "|   |   |   |   |   |--- organic_carbon <= 9.97\n",
      "|   |   |   |   |   |   |--- class: 0\n",
      "|   |   |   |   |   |--- organic_carbon >  9.97\n",
      "|   |   |   |   |   |   |--- class: 0\n",
      "|   |--- sulfate >  363.35\n",
      "|   |   |--- ph <= 7.87\n",
      "|   |   |   |--- hardness <= 207.09\n",
      "|   |   |   |   |--- chloramines <= 9.55\n",
      "|   |   |   |   |   |--- chloramines <= 5.02\n",
      "|   |   |   |   |   |   |--- class: 1\n",
      "|   |   |   |   |   |--- chloramines >  5.02\n",
      "|   |   |   |   |   |   |--- class: 0\n",
      "|   |   |   |   |--- chloramines >  9.55\n",
      "|   |   |   |   |   |--- class: 1\n",
      "|   |   |   |--- hardness >  207.09\n",
      "|   |   |   |   |--- chloramines <= 7.71\n",
      "|   |   |   |   |   |--- sulfate <= 380.65\n",
      "|   |   |   |   |   |   |--- class: 1\n",
      "|   |   |   |   |   |--- sulfate >  380.65\n",
      "|   |   |   |   |   |   |--- class: 1\n",
      "|   |   |   |   |--- chloramines >  7.71\n",
      "|   |   |   |   |   |--- solids <= 18439.25\n",
      "|   |   |   |   |   |   |--- class: 1\n",
      "|   |   |   |   |   |--- solids >  18439.25\n",
      "|   |   |   |   |   |   |--- class: 0\n",
      "|   |   |--- ph >  7.87\n",
      "|   |   |   |--- sulfate <= 367.54\n",
      "|   |   |   |   |--- class: 0\n",
      "|   |   |   |--- sulfate >  367.54\n",
      "|   |   |   |   |--- solids <= 13603.83\n",
      "|   |   |   |   |   |--- class: 0\n",
      "|   |   |   |   |--- solids >  13603.83\n",
      "|   |   |   |   |   |--- solids <= 16628.66\n",
      "|   |   |   |   |   |   |--- class: 1\n",
      "|   |   |   |   |   |--- solids >  16628.66\n",
      "|   |   |   |   |   |   |--- class: 0\n",
      "\n"
     ]
    },
    {
     "name": "stderr",
     "output_type": "stream",
     "text": [
      "/home/modf/anaconda3/lib/python3.9/site-packages/sklearn/utils/deprecation.py:87: FutureWarning: Function get_feature_names is deprecated; get_feature_names is deprecated in 1.0 and will be removed in 1.2. Please use get_feature_names_out instead.\n",
      "  warnings.warn(msg, category=FutureWarning)\n"
     ]
    }
   ],
   "source": [
    "print(export_text(dt, feature_names=dv.get_feature_names()))\n"
   ]
  },
  {
   "cell_type": "markdown",
   "id": "7cadda28",
   "metadata": {},
   "source": [
    "## Random Forest Classifier Model"
   ]
  },
  {
   "cell_type": "code",
   "execution_count": 14,
   "id": "72f8ab8c",
   "metadata": {},
   "outputs": [],
   "source": [
    "#import the randomforest package\n",
    "from sklearn.ensemble import RandomForestClassifier"
   ]
  },
  {
   "cell_type": "code",
   "execution_count": 62,
   "id": "956e73f8",
   "metadata": {},
   "outputs": [],
   "source": [
    "# Train the RF classifier for different n_estimators\n",
    "scores = []\n",
    "\n",
    "for n in range(10, 201, 10):\n",
    "    rf = RandomForestClassifier(n_estimators=n, random_state=1)\n",
    "    rf.fit(X_train, y_train)\n",
    "\n",
    "    y_pred = rf.predict_proba(X_val)[:, 1]\n",
    "    auc = roc_auc_score(y_val, y_pred)\n",
    "    \n",
    "    scores.append((n, auc))"
   ]
  },
  {
   "cell_type": "code",
   "execution_count": 63,
   "id": "87278d86",
   "metadata": {},
   "outputs": [],
   "source": [
    "#create the dataframe using the n_estimator and AUC\n",
    "df_scores = pd.DataFrame(scores, columns=['n_estimators', 'auc'])"
   ]
  },
  {
   "cell_type": "code",
   "execution_count": 64,
   "id": "65662fc5",
   "metadata": {},
   "outputs": [
    {
     "data": {
      "text/plain": [
       "[<matplotlib.lines.Line2D at 0x7fb631040850>]"
      ]
     },
     "execution_count": 64,
     "metadata": {},
     "output_type": "execute_result"
    },
    {
     "data": {
      "image/png": "[encoded data removed]",
      "text/plain": [
       "<Figure size 432x288 with 1 Axes>"
      ]
     },
     "metadata": {
      "needs_background": "light"
     },
     "output_type": "display_data"
    }
   ],
   "source": [
    "# Plotting n_estimators Vs AUC\n",
    "plt.plot(df_scores.n_estimators, df_scores.auc)"
   ]
  },
  {
   "cell_type": "code",
   "execution_count": 65,
   "id": "76beedc4",
   "metadata": {},
   "outputs": [],
   "source": [
    "# Choose the Depth of the trees to grow\n",
    "scores = []\n",
    "\n",
    "for d in [5,6,7, 10,12, 15,18]:\n",
    "    for n in range(10, 301, 10):\n",
    "        rf = RandomForestClassifier(n_estimators=n,\n",
    "                                    max_depth=d,\n",
    "                                    random_state=1)\n",
    "        rf.fit(X_train, y_train)\n",
    "\n",
    "        y_pred = rf.predict_proba(X_val)[:, 1]\n",
    "        auc = roc_auc_score(y_val, y_pred)\n",
    "\n",
    "        scores.append((d, n, auc))\n"
   ]
  },
  {
   "cell_type": "code",
   "execution_count": 66,
   "id": "30f20eb0",
   "metadata": {},
   "outputs": [],
   "source": [
    "#Dataframe for max_depth, n_estimator and auc\n",
    "columns = ['max_depth', 'n_estimators', 'auc']\n",
    "df_scores = pd.DataFrame(scores, columns=columns)\n"
   ]
  },
  {
   "cell_type": "code",
   "execution_count": 67,
   "id": "cfaa1a09",
   "metadata": {},
   "outputs": [
    {
     "data": {
      "text/plain": [
       "<matplotlib.legend.Legend at 0x7fb630d3bbb0>"
      ]
     },
     "execution_count": 67,
     "metadata": {},
     "output_type": "execute_result"
    },
    {
     "data": {
      "image/png": "[encoded data removed]",
      "text/plain": [
       "<Figure size 432x288 with 1 Axes>"
      ]
     },
     "metadata": {
      "needs_background": "light"
     },
     "output_type": "display_data"
    }
   ],
   "source": [
    "# Plotting the n_estimator Vs AUC for different max_depth\n",
    "for d in [5,6,7, 10,12, 15,18]:\n",
    "    df_subset = df_scores[df_scores.max_depth == d]\n",
    "    \n",
    "    plt.plot(df_subset.n_estimators, df_subset.auc,\n",
    "             label='max_depth=%d' % d)\n",
    "\n",
    "plt.legend()"
   ]
  },
  {
   "cell_type": "code",
   "execution_count": 68,
   "id": "346812de",
   "metadata": {},
   "outputs": [],
   "source": [
    "# Based on the graph above, we choose the max_depth=15 which gives the max AUC\n",
    "max_depth = 18"
   ]
  },
  {
   "cell_type": "code",
   "execution_count": 69,
   "id": "a1a6a649",
   "metadata": {},
   "outputs": [],
   "source": [
    "# Choosing the different min_samples_leaf for the max_depth=15\n",
    "scores = []\n",
    "\n",
    "for s in [1, 3, 5,7, 10,15,20,25, 50]:\n",
    "    for n in range(10, 301, 10):\n",
    "        rf = RandomForestClassifier(n_estimators=n,\n",
    "                                    max_depth=max_depth,\n",
    "                                    min_samples_leaf=s,\n",
    "                                    random_state=1)\n",
    "        rf.fit(X_train, y_train)\n",
    "\n",
    "        y_pred = rf.predict_proba(X_val)[:, 1]\n",
    "        auc = roc_auc_score(y_val, y_pred)\n",
    "\n",
    "        scores.append((s, n, auc))"
   ]
  },
  {
   "cell_type": "code",
   "execution_count": 70,
   "id": "1a38e785",
   "metadata": {},
   "outputs": [],
   "source": [
    "# Dataframe for min_samples_leaf, n_estimators, auc\n",
    "columns = ['min_samples_leaf', 'n_estimators', 'auc']\n",
    "df_scores = pd.DataFrame(scores, columns=columns)"
   ]
  },
  {
   "cell_type": "code",
   "execution_count": 71,
   "id": "4eabfbec",
   "metadata": {},
   "outputs": [
    {
     "data": {
      "text/plain": [
       "<matplotlib.legend.Legend at 0x7fb630ced5e0>"
      ]
     },
     "execution_count": 71,
     "metadata": {},
     "output_type": "execute_result"
    },
    {
     "data": {
      "image/png": "[encoded data removed]",
      "text/plain": [
       "<Figure size 432x288 with 1 Axes>"
      ]
     },
     "metadata": {
      "needs_background": "light"
     },
     "output_type": "display_data"
    }
   ],
   "source": [
    "# Plotting n_estimators Vs AUC for different min_samples_leaf\n",
    "colors = ['black', 'blue', 'orange', 'red', 'grey', 'green','pink','purple','indigo']\n",
    "values = [1, 3, 5,7, 10,15,20,25, 50]\n",
    "\n",
    "for s, col in zip(values, colors):\n",
    "    df_subset = df_scores[df_scores.min_samples_leaf == s]\n",
    "    \n",
    "    plt.plot(df_subset.n_estimators, df_subset.auc,\n",
    "             color=col,\n",
    "             label='min_samples_leaf=%d' % s)\n",
    "\n",
    "plt.legend()"
   ]
  },
  {
   "cell_type": "code",
   "execution_count": 72,
   "id": "6c6712a2",
   "metadata": {},
   "outputs": [],
   "source": [
    "# Based on the above graph, choose the best min_samples_leaf and n_estimators\n",
    "min_samples_leaf = 1"
   ]
  },
  {
   "cell_type": "code",
   "execution_count": 73,
   "id": "0dcf8d20",
   "metadata": {},
   "outputs": [
    {
     "data": {
      "text/plain": [
       "RandomForestClassifier(max_depth=18, n_estimators=260, random_state=1)"
      ]
     },
     "execution_count": 73,
     "metadata": {},
     "output_type": "execute_result"
    }
   ],
   "source": [
    "rf = RandomForestClassifier(n_estimators=260,\n",
    "                            max_depth=max_depth,\n",
    "                            min_samples_leaf=min_samples_leaf,\n",
    "                            random_state=1)\n",
    "rf.fit(X_train, y_train)"
   ]
  },
  {
   "cell_type": "markdown",
   "id": "d762e491",
   "metadata": {},
   "source": []
  },
  {
   "cell_type": "markdown",
   "id": "4ba3cbdf",
   "metadata": {},
   "source": [
    "# XGBoost Model"
   ]
  },
  {
   "cell_type": "code",
   "execution_count": null,
   "id": "db6b67bc",
   "metadata": {},
   "outputs": [],
   "source": []
  },
  {
   "cell_type": "code",
   "execution_count": 84,
   "id": "d7541b11",
   "metadata": {},
   "outputs": [],
   "source": [
    "# import xgboost package\n",
    "import xgboost as xgb"
   ]
  },
  {
   "cell_type": "code",
   "execution_count": 85,
   "id": "6d2d89a9",
   "metadata": {},
   "outputs": [
    {
     "name": "stderr",
     "output_type": "stream",
     "text": [
      "/home/modf/anaconda3/lib/python3.9/site-packages/sklearn/utils/deprecation.py:87: FutureWarning: Function get_feature_names is deprecated; get_feature_names is deprecated in 1.0 and will be removed in 1.2. Please use get_feature_names_out instead.\n",
      "  warnings.warn(msg, category=FutureWarning)\n"
     ]
    }
   ],
   "source": [
    "# Preparing the DMatrix for xgb model\n",
    "features = dv.get_feature_names()\n",
    "dtrain = xgb.DMatrix(X_train, label=y_train, feature_names=features)\n",
    "dval = xgb.DMatrix(X_val, label=y_val, feature_names=features)"
   ]
  },
  {
   "cell_type": "code",
   "execution_count": 86,
   "id": "6cd8368e",
   "metadata": {},
   "outputs": [],
   "source": [
    "# Training the xgb model using the default parameters\n",
    "\n",
    "xgb_params = {\n",
    "    'eta': 0.3, \n",
    "    'max_depth': 6,\n",
    "    'min_child_weight': 1,\n",
    "    \n",
    "    'objective': 'binary:logistic',\n",
    "    'nthread': 8,\n",
    "    \n",
    "    'seed': 1,\n",
    "    'verbosity': 1,\n",
    "}\n",
    "\n",
    "model = xgb.train(xgb_params, dtrain, num_boost_round=10)"
   ]
  },
  {
   "cell_type": "code",
   "execution_count": 87,
   "id": "b1b05aad",
   "metadata": {},
   "outputs": [],
   "source": [
    "# prediction of trained xgb model\n",
    "y_pred = model.predict(dval)"
   ]
  },
  {
   "cell_type": "code",
   "execution_count": 88,
   "id": "96473e41",
   "metadata": {},
   "outputs": [
    {
     "data": {
      "text/plain": [
       "0.6423744979919679"
      ]
     },
     "execution_count": 88,
     "metadata": {},
     "output_type": "execute_result"
    }
   ],
   "source": [
    "# auc score for xgb default model\n",
    "roc_auc_score(y_val, y_pred)"
   ]
  },
  {
   "cell_type": "code",
   "execution_count": 89,
   "id": "13160424",
   "metadata": {},
   "outputs": [],
   "source": [
    "# Create a watchlist to track the metioned metrices\n",
    "watchlist = [(dtrain, 'train'), (dval, 'val')]"
   ]
  },
  {
   "cell_type": "code",
   "execution_count": 92,
   "id": "445c1445",
   "metadata": {},
   "outputs": [],
   "source": [
    "%%capture output\n",
    "\n",
    "# Parameter Tuning for XGB Model\n",
    "xgb_params = {\n",
    "    'eta': 0.3, \n",
    "    'max_depth': 15,\n",
    "    'min_child_weight': 1,\n",
    "    \n",
    "    'objective': 'binary:logistic',\n",
    "    'eval_metric': 'auc',\n",
    "\n",
    "    'nthread': 8,\n",
    "    'seed': 1,\n",
    "    'verbosity': 1,\n",
    "}\n",
    "\n",
    "model = xgb.train(xgb_params, dtrain, num_boost_round=260,\n",
    "                  verbose_eval=5,\n",
    "                  evals=watchlist)"
   ]
  },
  {
   "cell_type": "code",
   "execution_count": 93,
   "id": "7449a5f7",
   "metadata": {},
   "outputs": [],
   "source": [
    "# storing the output of std \n",
    "s = output.stdout"
   ]
  },
  {
   "cell_type": "code",
   "execution_count": 94,
   "id": "f58330e5",
   "metadata": {},
   "outputs": [
    {
     "name": "stdout",
     "output_type": "stream",
     "text": [
      "[0]\ttrain-auc:0.92536\tval-auc:0.58932\n",
      "[5]\ttrain-auc:0.99869\tval-auc:0.64617\n",
      "[10]\ttrain-auc:0.99999\tval-auc:0.64528\n",
      "[15]\ttrain-auc:1.00000\tval-auc:0.65441\n",
      "[20]\ttrain-auc:1.00000\tval-auc:0.65422\n",
      "[25]\ttrain-auc:1.00000\tval-auc:0.65726\n",
      "[30]\ttrain-auc:1.00000\tval-a\n"
     ]
    }
   ],
   "source": [
    "print(s[:260])"
   ]
  },
  {
   "cell_type": "code",
   "execution_count": 95,
   "id": "5befc163",
   "metadata": {},
   "outputs": [],
   "source": [
    "# A function to parse the output of the xgb model\n",
    "\n",
    "def parse_xgb_output(output):\n",
    "    results = []\n",
    "\n",
    "    for line in output.stdout.strip().split('\\n'):\n",
    "        it_line, train_line, val_line = line.split('\\t')\n",
    "\n",
    "        it = int(it_line.strip('[]'))\n",
    "        train = float(train_line.split(':')[1])\n",
    "        val = float(val_line.split(':')[1])\n",
    "\n",
    "        results.append((it, train, val))\n",
    "    \n",
    "    columns = ['num_iter', 'train_auc', 'val_auc']\n",
    "    df_results = pd.DataFrame(results, columns=columns)\n",
    "    return df_results\n"
   ]
  },
  {
   "cell_type": "code",
   "execution_count": 96,
   "id": "9b5360da",
   "metadata": {},
   "outputs": [],
   "source": [
    "#scores of xgb model\n",
    "df_score = parse_xgb_output(output)"
   ]
  },
  {
   "cell_type": "code",
   "execution_count": 98,
   "id": "d3e990ad",
   "metadata": {},
   "outputs": [
    {
     "data": {
      "text/plain": [
       "<matplotlib.legend.Legend at 0x7f7410730580>"
      ]
     },
     "execution_count": 98,
     "metadata": {},
     "output_type": "execute_result"
    },
    {
     "data": {
      "image/png": "[encoded data removed]",
      "text/plain": [
       "<Figure size 432x288 with 1 Axes>"
      ]
     },
     "metadata": {
      "needs_background": "light"
     },
     "output_type": "display_data"
    }
   ],
   "source": [
    "# plotting the xgb output for training and validation datatset\n",
    "plt.plot(df_score.num_iter, df_score.train_auc, label='train')\n",
    "plt.plot(df_score.num_iter, df_score.val_auc, label='val')\n",
    "plt.legend()"
   ]
  },
  {
   "cell_type": "code",
   "execution_count": 99,
   "id": "b0e98981",
   "metadata": {},
   "outputs": [
    {
     "data": {
      "text/plain": [
       "<matplotlib.legend.Legend at 0x7f74106d97c0>"
      ]
     },
     "execution_count": 99,
     "metadata": {},
     "output_type": "execute_result"
    },
    {
     "data": {
      "image/png": "[encoded data removed]",
      "text/plain": [
       "<Figure size 432x288 with 1 Axes>"
      ]
     },
     "metadata": {
      "needs_background": "light"
     },
     "output_type": "display_data"
    }
   ],
   "source": [
    "plt.plot(df_score.num_iter, df_score.val_auc, label='val')\n",
    "plt.legend()\n"
   ]
  },
  {
   "cell_type": "markdown",
   "id": "f4daa220",
   "metadata": {},
   "source": [
    "### XGBoost Parameters Tuning"
   ]
  },
  {
   "cell_type": "code",
   "execution_count": 101,
   "id": "4b51876d",
   "metadata": {},
   "outputs": [],
   "source": [
    "#XGBoost Parameter Tuning\n",
    "\n",
    "scores = {}"
   ]
  },
  {
   "cell_type": "code",
   "execution_count": 102,
   "id": "0c98ba36",
   "metadata": {},
   "outputs": [],
   "source": [
    "%%capture output\n",
    "\n",
    "xgb_params = {\n",
    "    'eta': 0.01, \n",
    "    'max_depth': 15,\n",
    "    'min_child_weight': 1,\n",
    "    \n",
    "    'objective': 'binary:logistic',\n",
    "    'eval_metric': 'auc',\n",
    "\n",
    "    'nthread': 8,\n",
    "    'seed': 1,\n",
    "    'verbosity': 1,\n",
    "}\n",
    "\n",
    "model = xgb.train(xgb_params, dtrain, num_boost_round=55,\n",
    "                  verbose_eval=5,\n",
    "                  evals=watchlist)"
   ]
  },
  {
   "cell_type": "code",
   "execution_count": 103,
   "id": "939c21b1",
   "metadata": {},
   "outputs": [],
   "source": [
    "scores = {}\n"
   ]
  },
  {
   "cell_type": "code",
   "execution_count": 104,
   "id": "4204a03f",
   "metadata": {},
   "outputs": [
    {
     "data": {
      "text/plain": [
       "'eta=0.01'"
      ]
     },
     "execution_count": 104,
     "metadata": {},
     "output_type": "execute_result"
    }
   ],
   "source": [
    "key = 'eta=%s' % (xgb_params['eta'])\n",
    "scores[key] = parse_xgb_output(output)\n",
    "key\n"
   ]
  },
  {
   "cell_type": "code",
   "execution_count": 105,
   "id": "8b2b5e11",
   "metadata": {},
   "outputs": [],
   "source": [
    "scores = {}"
   ]
  },
  {
   "cell_type": "code",
   "execution_count": 106,
   "id": "439d2e18",
   "metadata": {},
   "outputs": [],
   "source": [
    "%%capture output\n",
    "\n",
    "xgb_params = {\n",
    "    'eta': 0.03, \n",
    "    'max_depth': 6,\n",
    "    'min_child_weight': 1,\n",
    "    'lambda': 15,\n",
    "    'alpha': 15,\n",
    "    \n",
    "    'objective': 'binary:logistic',\n",
    "    'eval_metric': 'auc',\n",
    "#     'subsample': 0.5,\n",
    "\n",
    "    'nthread': 8,\n",
    "    'seed': 1,\n",
    "    'verbosity': 1,\n",
    "}\n",
    "\n",
    "model = xgb.train(xgb_params, dtrain, num_boost_round=500,\n",
    "                  verbose_eval=5,\n",
    "                  evals=watchlist)\n"
   ]
  },
  {
   "cell_type": "code",
   "execution_count": 107,
   "id": "37289f6a",
   "metadata": {},
   "outputs": [
    {
     "data": {
      "text/plain": [
       "'max_depth=6'"
      ]
     },
     "execution_count": 107,
     "metadata": {},
     "output_type": "execute_result"
    }
   ],
   "source": [
    "key = 'max_depth=%s' % (xgb_params['max_depth'])\n",
    "scores[key] = parse_xgb_output(output)\n",
    "key\n"
   ]
  },
  {
   "cell_type": "code",
   "execution_count": 108,
   "id": "e042220d",
   "metadata": {},
   "outputs": [
    {
     "data": {
      "text/plain": [
       "{'max_depth=6':      num_iter  train_auc  val_auc\n",
       " 0           0    0.61696  0.56297\n",
       " 1           5    0.64873  0.58944\n",
       " 2          10    0.65459  0.59362\n",
       " 3          15    0.66188  0.59740\n",
       " 4          20    0.66383  0.59857\n",
       " ..        ...        ...      ...\n",
       " 96        480    0.78677  0.65900\n",
       " 97        485    0.78677  0.65900\n",
       " 98        490    0.78677  0.65900\n",
       " 99        495    0.78677  0.65900\n",
       " 100       499    0.78677  0.65900\n",
       " \n",
       " [101 rows x 3 columns]}"
      ]
     },
     "execution_count": 108,
     "metadata": {},
     "output_type": "execute_result"
    }
   ],
   "source": [
    "# del scores['max_depth=15']\n",
    "scores\n"
   ]
  },
  {
   "cell_type": "code",
   "execution_count": 109,
   "id": "bbd79b7a",
   "metadata": {
    "scrolled": true
   },
   "outputs": [
    {
     "data": {
      "text/plain": [
       "<matplotlib.legend.Legend at 0x7f74127a2f40>"
      ]
     },
     "execution_count": 109,
     "metadata": {},
     "output_type": "execute_result"
    },
    {
     "data": {
      "image/png": "[encoded data removed]",
      "text/plain": [
       "<Figure size 432x288 with 1 Axes>"
      ]
     },
     "metadata": {
      "needs_background": "light"
     },
     "output_type": "display_data"
    }
   ],
   "source": [
    "for max_depth, df_score in scores.items():\n",
    "    plt.plot(df_score.num_iter, df_score.val_auc, label=max_depth)\n",
    "\n",
    "# plt.ylim(0.8, 0.84)\n",
    "plt.legend()\n"
   ]
  },
  {
   "cell_type": "code",
   "execution_count": null,
   "id": "2aab53b2",
   "metadata": {},
   "outputs": [],
   "source": []
  },
  {
   "cell_type": "code",
   "execution_count": null,
   "id": "f4782b02",
   "metadata": {},
   "outputs": [],
   "source": []
  },
  {
   "cell_type": "markdown",
   "id": "8d109de2",
   "metadata": {},
   "source": [
    "## Choose the best model and train it for train and validation data"
   ]
  },
  {
   "cell_type": "code",
   "execution_count": 15,
   "id": "7ed99a95",
   "metadata": {},
   "outputs": [],
   "source": [
    "# Selecting the train+validation=full_train_dataset dataset\n",
    "df_full_train = df_full_train.reset_index(drop=True)"
   ]
  },
  {
   "cell_type": "code",
   "execution_count": 16,
   "id": "06a7f501",
   "metadata": {},
   "outputs": [
    {
     "data": {
      "text/plain": [
       "(2620, 10)"
      ]
     },
     "execution_count": 16,
     "metadata": {},
     "output_type": "execute_result"
    }
   ],
   "source": [
    "# shape of the dataset\n",
    "df_full_train.shape"
   ]
  },
  {
   "cell_type": "code",
   "execution_count": 17,
   "id": "8901e259",
   "metadata": {},
   "outputs": [],
   "source": [
    "# getting the target values for complete dataset\n",
    "y_full_train = df_full_train.potability.values"
   ]
  },
  {
   "cell_type": "code",
   "execution_count": 18,
   "id": "c1814f97",
   "metadata": {},
   "outputs": [],
   "source": [
    "# delete the target variable from the dataset \n",
    "del df_full_train['potability']"
   ]
  },
  {
   "cell_type": "code",
   "execution_count": 21,
   "id": "12fa6e90",
   "metadata": {},
   "outputs": [],
   "source": [
    "# Preparing the training and test dataset using the Dictvectorizer\n",
    "\n",
    "dicts_full_train = df_full_train.to_dict(orient='records')\n",
    "\n",
    "dv = DictVectorizer(sparse=False)\n",
    "X_full_train = dv.fit_transform(dicts_full_train)\n",
    "\n",
    "dicts_test = df_test.to_dict(orient='records')\n",
    "X_test = dv.transform(dicts_test)"
   ]
  },
  {
   "cell_type": "code",
   "execution_count": 22,
   "id": "034c0509",
   "metadata": {},
   "outputs": [],
   "source": [
    "# This is the best model we selected \n",
    "rf = RandomForestClassifier(n_estimators=260,\n",
    "                            max_depth=18,\n",
    "                            min_samples_leaf=1, #min_samples_leaf,\n",
    "                            random_state=1)\n"
   ]
  },
  {
   "cell_type": "code",
   "execution_count": 23,
   "id": "7762ebec",
   "metadata": {},
   "outputs": [
    {
     "ename": "NameError",
     "evalue": "name 'y_test' is not defined",
     "output_type": "error",
     "traceback": [
      "\u001b[0;31m---------------------------------------------------------------------------\u001b[0m",
      "\u001b[0;31mNameError\u001b[0m                                 Traceback (most recent call last)",
      "Input \u001b[0;32mIn [23]\u001b[0m, in \u001b[0;36m<cell line: 8>\u001b[0;34m()\u001b[0m\n\u001b[1;32m      5\u001b[0m y_pred \u001b[38;5;241m=\u001b[39m rf\u001b[38;5;241m.\u001b[39mpredict_proba(X_test)[:, \u001b[38;5;241m1\u001b[39m]\n\u001b[1;32m      7\u001b[0m \u001b[38;5;66;03m#AUC of the model for test dataset(unseen)\u001b[39;00m\n\u001b[0;32m----> 8\u001b[0m auc \u001b[38;5;241m=\u001b[39m roc_auc_score(\u001b[43my_test\u001b[49m, y_pred)\n",
      "\u001b[0;31mNameError\u001b[0m: name 'y_test' is not defined"
     ]
    }
   ],
   "source": [
    "#Training the model\n",
    "rf.fit(X_full_train, y_full_train)\n",
    "\n",
    "# Prediction from model\n",
    "y_pred = rf.predict_proba(X_test)[:, 1]\n",
    "\n",
    "#AUC of the model for test dataset(unseen)\n",
    "auc = roc_auc_score(y_test, y_pred)"
   ]
  },
  {
   "cell_type": "code",
   "execution_count": 20,
   "id": "ec5ff9e1",
   "metadata": {},
   "outputs": [
    {
     "data": {
      "text/plain": [
       "1.0"
      ]
     },
     "execution_count": 20,
     "metadata": {},
     "output_type": "execute_result"
    }
   ],
   "source": [
    "#The AUC of the final model is \n",
    "auc"
   ]
  },
  {
   "cell_type": "markdown",
   "id": "19d572bd",
   "metadata": {},
   "source": [
    "Conclusion - We trained multiple models - Logistic Regression, Decision Trees, RandomForest Classifier, XGBoost and found out that RandomForest gives the best AUC for the test set and we finalize it for the deployment."
   ]
  },
  {
   "cell_type": "code",
   "execution_count": null,
   "id": "932b2909",
   "metadata": {},
   "outputs": [],
   "source": []
  }
 ],
 "metadata": {
  "kernelspec": {
   "display_name": "Python 3 (ipykernel)",
   "language": "python",
   "name": "python3"
  },
  "language_info": {
   "codemirror_mode": {
    "name": "ipython",
    "version": 3
   },
   "file_extension": ".py",
   "mimetype": "text/x-python",
   "name": "python",
   "nbconvert_exporter": "python",
   "pygments_lexer": "ipython3",
   "version": "3.9.12"
  }
 },
 "nbformat": 4,
 "nbformat_minor": 5
}
